{
 "cells": [
  {
   "cell_type": "markdown",
   "metadata": {
    "id": "FKhToC7Vvl4x"
   },
   "source": [
    "### LEON MANGALISO SIHLONGONYANE: ASSIGNMENT 2"
   ]
  },
  {
   "cell_type": "markdown",
   "metadata": {
    "id": "PPqlPVIIvl40"
   },
   "source": [
    "#### Import module for capabilities"
   ]
  },
  {
   "cell_type": "code",
   "execution_count": 49,
   "metadata": {
    "id": "WZocmqEc_WMw"
   },
   "outputs": [],
   "source": [
    "import numpy as np   #able to do numeracal operations\n",
    "np.random.seed(1337) # for reproducibility\n",
    "import pandas        #able to import CV files and other data manipulation\n",
    "import tensorflow as tf   # able to apply nueral network modelling\n",
    "from tensorflow.keras import Sequential # for plain stack of layers\n",
    "from tensorflow.keras.layers import Dense  # to create fully connected layers\n",
    "from tensorflow.keras import metrics #able to calculate accuracy of model\n",
    "from tensorflow.keras.wrappers.scikit_learn import KerasRegressor #The Keras wrappers return the mean loss\n",
    "from sklearn.metrics import mean_squared_error  #for mean square error\n",
    "from sklearn.preprocessing import StandardScaler #for scaling data\n",
    "from sklearn.model_selection import train_test_split    #able to split data into training and testing\n",
    "import matplotlib.pyplot as plt   # able to plot \n",
    "from sklearn.metrics import confusion_matrix, accuracy_score #able to calculate accuracy score for model\n",
    "from keras.utils import np_utils    #able to do one hot encoding\n"
   ]
  },
  {
   "cell_type": "markdown",
   "metadata": {
    "id": "73GJgcyGvl45"
   },
   "source": [
    "#### Import data"
   ]
  },
  {
   "cell_type": "code",
   "execution_count": 50,
   "metadata": {
    "id": "zE2O9bH1wBYI"
   },
   "outputs": [],
   "source": [
    "data=pandas.read_csv(\"https://protect-za.mimecast.com/s/vYKICAnX51iR2wOPiM4hPa\")\n",
    "dataset = data.values   #we import CV file from online"
   ]
  },
  {
   "cell_type": "code",
   "execution_count": 51,
   "metadata": {
    "colab": {
     "base_uri": "https://localhost:8080/",
     "height": 206
    },
    "id": "xnOo2RnFCqIa",
    "outputId": "02104e54-6bf3-4dc3-b5d0-99d846f18004"
   },
   "outputs": [
    {
     "data": {
      "text/html": [
       "<div>\n",
       "<style scoped>\n",
       "    .dataframe tbody tr th:only-of-type {\n",
       "        vertical-align: middle;\n",
       "    }\n",
       "\n",
       "    .dataframe tbody tr th {\n",
       "        vertical-align: top;\n",
       "    }\n",
       "\n",
       "    .dataframe thead th {\n",
       "        text-align: right;\n",
       "    }\n",
       "</style>\n",
       "<table border=\"1\" class=\"dataframe\">\n",
       "  <thead>\n",
       "    <tr style=\"text-align: right;\">\n",
       "      <th></th>\n",
       "      <th>var1</th>\n",
       "      <th>var2</th>\n",
       "      <th>var3</th>\n",
       "      <th>var4</th>\n",
       "      <th>var5</th>\n",
       "      <th>var6</th>\n",
       "      <th>var7</th>\n",
       "      <th>var8</th>\n",
       "      <th>target</th>\n",
       "    </tr>\n",
       "  </thead>\n",
       "  <tbody>\n",
       "    <tr>\n",
       "      <th>0</th>\n",
       "      <td>1080.0</td>\n",
       "      <td>0.0</td>\n",
       "      <td>0.0</td>\n",
       "      <td>324.0</td>\n",
       "      <td>5.0</td>\n",
       "      <td>2080.0</td>\n",
       "      <td>1352.0</td>\n",
       "      <td>56</td>\n",
       "      <td>79.99</td>\n",
       "    </tr>\n",
       "    <tr>\n",
       "      <th>1</th>\n",
       "      <td>1080.0</td>\n",
       "      <td>0.0</td>\n",
       "      <td>0.0</td>\n",
       "      <td>324.0</td>\n",
       "      <td>5.0</td>\n",
       "      <td>2110.0</td>\n",
       "      <td>1352.0</td>\n",
       "      <td>56</td>\n",
       "      <td>61.89</td>\n",
       "    </tr>\n",
       "    <tr>\n",
       "      <th>2</th>\n",
       "      <td>665.0</td>\n",
       "      <td>285.0</td>\n",
       "      <td>0.0</td>\n",
       "      <td>456.0</td>\n",
       "      <td>0.0</td>\n",
       "      <td>1864.0</td>\n",
       "      <td>1188.0</td>\n",
       "      <td>540</td>\n",
       "      <td>40.27</td>\n",
       "    </tr>\n",
       "    <tr>\n",
       "      <th>3</th>\n",
       "      <td>665.0</td>\n",
       "      <td>285.0</td>\n",
       "      <td>0.0</td>\n",
       "      <td>456.0</td>\n",
       "      <td>0.0</td>\n",
       "      <td>1864.0</td>\n",
       "      <td>1188.0</td>\n",
       "      <td>730</td>\n",
       "      <td>41.05</td>\n",
       "    </tr>\n",
       "    <tr>\n",
       "      <th>4</th>\n",
       "      <td>397.2</td>\n",
       "      <td>264.8</td>\n",
       "      <td>0.0</td>\n",
       "      <td>384.0</td>\n",
       "      <td>0.0</td>\n",
       "      <td>1956.8</td>\n",
       "      <td>1651.0</td>\n",
       "      <td>720</td>\n",
       "      <td>44.30</td>\n",
       "    </tr>\n",
       "  </tbody>\n",
       "</table>\n",
       "</div>"
      ],
      "text/plain": [
       "     var1   var2  var3   var4  var5    var6    var7  var8  target\n",
       "0  1080.0    0.0   0.0  324.0   5.0  2080.0  1352.0    56   79.99\n",
       "1  1080.0    0.0   0.0  324.0   5.0  2110.0  1352.0    56   61.89\n",
       "2   665.0  285.0   0.0  456.0   0.0  1864.0  1188.0   540   40.27\n",
       "3   665.0  285.0   0.0  456.0   0.0  1864.0  1188.0   730   41.05\n",
       "4   397.2  264.8   0.0  384.0   0.0  1956.8  1651.0   720   44.30"
      ]
     },
     "execution_count": 51,
     "metadata": {},
     "output_type": "execute_result"
    }
   ],
   "source": [
    "data.head()  #view data"
   ]
  },
  {
   "cell_type": "code",
   "execution_count": 52,
   "metadata": {
    "id": "cfBc4baVz6HM"
   },
   "outputs": [],
   "source": [
    "data=StandardScaler().fit_transform(dataset)  #scaling data"
   ]
  },
  {
   "cell_type": "code",
   "execution_count": 53,
   "metadata": {},
   "outputs": [
    {
     "data": {
      "text/plain": [
       "array([[ 2.47791782, -0.85688631, -0.84713204, ..., -1.21765845,\n",
       "        -0.27973311,  2.64540763],\n",
       "       [ 2.47791782, -0.85688631, -0.84713204, ..., -1.21765845,\n",
       "        -0.27973311,  1.56142148],\n",
       "       [ 0.49144303,  0.79553263, -0.84713204, ..., -2.24091255,\n",
       "         3.55306569,  0.26662698],\n",
       "       ...,\n",
       "       [-1.2700575 ,  0.75958527,  0.85066095, ...,  0.08012724,\n",
       "        -0.27973311, -0.72572939],\n",
       "       [-1.16857975,  1.3080724 , -0.84713204, ...,  0.19118775,\n",
       "        -0.27973311, -0.18253855],\n",
       "       [-0.19401043,  0.30850389,  0.37696733, ..., -0.15072887,\n",
       "        -0.27973311, -0.20469738]])"
      ]
     },
     "execution_count": 53,
     "metadata": {},
     "output_type": "execute_result"
    }
   ],
   "source": [
    "data  #view data if scaled"
   ]
  },
  {
   "cell_type": "markdown",
   "metadata": {
    "id": "NedDXDxL9b9L"
   },
   "source": [
    "\n",
    "pandas.read_csv(\"https://protect-za.mimecast.com/s/vYKICAnX51iR2wOPiM4hPa\")\n"
   ]
  },
  {
   "cell_type": "markdown",
   "metadata": {
    "id": "80m2x9sDvl5B"
   },
   "source": [
    "#### Assign X and Y datasets"
   ]
  },
  {
   "cell_type": "code",
   "execution_count": 54,
   "metadata": {
    "id": "YOZ_jztv96G9"
   },
   "outputs": [],
   "source": [
    "X = data[:,0:8]  #attributes\n",
    "Y = data[:,8]  #target"
   ]
  },
  {
   "cell_type": "markdown",
   "metadata": {
    "id": "A3YQTBivvl5E"
   },
   "source": [
    "#### Check data shape"
   ]
  },
  {
   "cell_type": "code",
   "execution_count": 55,
   "metadata": {
    "colab": {
     "base_uri": "https://localhost:8080/"
    },
    "id": "3kHjcpjE96EW",
    "outputId": "4accf003-298c-4e4c-89a4-8c8b8a4686e7"
   },
   "outputs": [
    {
     "data": {
      "text/plain": [
       "(1030, 8)"
      ]
     },
     "execution_count": 55,
     "metadata": {},
     "output_type": "execute_result"
    }
   ],
   "source": [
    "X.shape  #view features shape consistency\n"
   ]
  },
  {
   "cell_type": "code",
   "execution_count": 56,
   "metadata": {
    "colab": {
     "base_uri": "https://localhost:8080/"
    },
    "id": "zm_4nz0R96DH",
    "outputId": "23eb8c93-c8ff-47af-8eab-51d42586de3a"
   },
   "outputs": [
    {
     "data": {
      "text/plain": [
       "(1030,)"
      ]
     },
     "execution_count": 56,
     "metadata": {},
     "output_type": "execute_result"
    }
   ],
   "source": [
    "Y.shape #view target shape consistency"
   ]
  },
  {
   "cell_type": "markdown",
   "metadata": {
    "id": "ZUuvripHvl5I"
   },
   "source": [
    "#### Split data into Training and Testing"
   ]
  },
  {
   "cell_type": "code",
   "execution_count": 57,
   "metadata": {
    "id": "y_bYhzjV9m-g"
   },
   "outputs": [],
   "source": [
    "X_train, X_test, Y_train, Y_test = train_test_split(X, Y, test_size=.3) #splitting data into training 70% and testing 30% "
   ]
  },
  {
   "cell_type": "markdown",
   "metadata": {
    "id": "iOTyqMqlvl5K"
   },
   "source": [
    "#### Create model"
   ]
  },
  {
   "cell_type": "code",
   "execution_count": 58,
   "metadata": {
    "id": "WbJRGagPDs9G"
   },
   "outputs": [],
   "source": [
    "def baseline():\n",
    "    # create model\n",
    "    model = Sequential()\n",
    "    \n",
    "    # add one fully connected layer\n",
    "    model.add(Dense(units = 8, input_dim=8, activation='relu'))\n",
    "    # add a fully connected layer for the output\n",
    "    model.add(Dense(units=5, activation='relu')) \n",
    "    model.add(Dense(units=1, activation='relu'))    \n",
    "    # Compile model\n",
    "    model.compile(loss='mse', optimizer='adam',metrics=[metrics.mse])\n",
    "    \n",
    "    return model\n",
    "    "
   ]
  },
  {
   "cell_type": "code",
   "execution_count": 59,
   "metadata": {
    "id": "VlzVqeqdD0Oh"
   },
   "outputs": [],
   "source": [
    "model = baseline()  #initialize model"
   ]
  },
  {
   "cell_type": "code",
   "execution_count": 60,
   "metadata": {
    "colab": {
     "base_uri": "https://localhost:8080/"
    },
    "id": "EySIDOioD20p",
    "outputId": "76190fff-f548-49be-9c86-55c31c799cc7"
   },
   "outputs": [
    {
     "name": "stdout",
     "output_type": "stream",
     "text": [
      "Model: \"sequential_3\"\n",
      "_________________________________________________________________\n",
      " Layer (type)                Output Shape              Param #   \n",
      "=================================================================\n",
      " dense_9 (Dense)             (None, 8)                 72        \n",
      "                                                                 \n",
      " dense_10 (Dense)            (None, 5)                 45        \n",
      "                                                                 \n",
      " dense_11 (Dense)            (None, 1)                 6         \n",
      "                                                                 \n",
      "=================================================================\n",
      "Total params: 123\n",
      "Trainable params: 123\n",
      "Non-trainable params: 0\n",
      "_________________________________________________________________\n"
     ]
    }
   ],
   "source": [
    "model.summary() #determine number of trainable parameters from the summary"
   ]
  },
  {
   "cell_type": "markdown",
   "metadata": {
    "id": "wFjEARXKvl5P"
   },
   "source": [
    "#### Model Training"
   ]
  },
  {
   "cell_type": "code",
   "execution_count": 61,
   "metadata": {
    "colab": {
     "base_uri": "https://localhost:8080/"
    },
    "id": "uM1bRk8RD7mK",
    "outputId": "acdc3d64-0597-4ca1-eee2-7a0ce02205c4"
   },
   "outputs": [
    {
     "name": "stdout",
     "output_type": "stream",
     "text": [
      "Epoch 1/15\n",
      "181/181 [==============================] - 0s 971us/step - loss: 1.0039 - mean_squared_error: 1.0039\n",
      "Epoch 2/15\n",
      "181/181 [==============================] - 0s 1ms/step - loss: 0.8192 - mean_squared_error: 0.8192\n",
      "Epoch 3/15\n",
      "181/181 [==============================] - 0s 994us/step - loss: 0.7656 - mean_squared_error: 0.7656\n",
      "Epoch 4/15\n",
      "181/181 [==============================] - 0s 997us/step - loss: 0.7399 - mean_squared_error: 0.7399\n",
      "Epoch 5/15\n",
      "181/181 [==============================] - 0s 992us/step - loss: 0.7222 - mean_squared_error: 0.7222\n",
      "Epoch 6/15\n",
      "181/181 [==============================] - 0s 1ms/step - loss: 0.7113 - mean_squared_error: 0.7113\n",
      "Epoch 7/15\n",
      "181/181 [==============================] - 0s 1ms/step - loss: 0.7006 - mean_squared_error: 0.7006\n",
      "Epoch 8/15\n",
      "181/181 [==============================] - 0s 924us/step - loss: 0.6902 - mean_squared_error: 0.6902\n",
      "Epoch 9/15\n",
      "181/181 [==============================] - 0s 995us/step - loss: 0.6829 - mean_squared_error: 0.6829\n",
      "Epoch 10/15\n",
      "181/181 [==============================] - 0s 976us/step - loss: 0.6771 - mean_squared_error: 0.6771\n",
      "Epoch 11/15\n",
      "181/181 [==============================] - 0s 950us/step - loss: 0.6719 - mean_squared_error: 0.6719\n",
      "Epoch 12/15\n",
      "181/181 [==============================] - 0s 941us/step - loss: 0.6642 - mean_squared_error: 0.6642\n",
      "Epoch 13/15\n",
      "181/181 [==============================] - 0s 953us/step - loss: 0.6565 - mean_squared_error: 0.6565\n",
      "Epoch 14/15\n",
      "181/181 [==============================] - 0s 976us/step - loss: 0.6476 - mean_squared_error: 0.6476\n",
      "Epoch 15/15\n",
      "181/181 [==============================] - 0s 911us/step - loss: 0.6374 - mean_squared_error: 0.6374\n"
     ]
    }
   ],
   "source": [
    "history = model.fit(X_train, Y_train, epochs=15, batch_size=4, verbose=1)  #Train the model"
   ]
  },
  {
   "cell_type": "markdown",
   "metadata": {
    "id": "bCJQyUOevl5Q"
   },
   "source": [
    "#### Model Prediction"
   ]
  },
  {
   "cell_type": "code",
   "execution_count": 62,
   "metadata": {
    "id": "iLwy63znvl5R"
   },
   "outputs": [],
   "source": [
    "prediction = model.predict(X_test)  #Predict test data"
   ]
  },
  {
   "cell_type": "code",
   "execution_count": 63,
   "metadata": {
    "colab": {
     "base_uri": "https://localhost:8080/"
    },
    "id": "FQUf9zJBvl5S",
    "outputId": "1526e1bc-7f81-48f4-89d6-c1e302f1122c"
   },
   "outputs": [
    {
     "data": {
      "text/plain": [
       "0.6130887307327929"
      ]
     },
     "execution_count": 63,
     "metadata": {},
     "output_type": "execute_result"
    }
   ],
   "source": [
    "mean_squared_error(Y_test, prediction)  #compute mean error"
   ]
  },
  {
   "cell_type": "markdown",
   "metadata": {
    "id": "KevoQp_Dvl5W"
   },
   "source": [
    "#### Error Plot"
   ]
  },
  {
   "cell_type": "code",
   "execution_count": 64,
   "metadata": {
    "colab": {
     "base_uri": "https://localhost:8080/",
     "height": 513
    },
    "id": "CKuoYMKFvl5W",
    "outputId": "ca893bf2-f9f3-4b8b-c330-08528e98e53d"
   },
   "outputs": [
    {
     "data": {
      "image/png": "[encoded data removed]",
      "text/plain": [
       "<Figure size 576x576 with 1 Axes>"
      ]
     },
     "metadata": {
      "needs_background": "light"
     },
     "output_type": "display_data"
    }
   ],
   "source": [
    "plt.figure(figsize=(8, 8))  #Plot of error VS. epochs\n",
    "plt.plot(history.history['mean_squared_error'])\n",
    "plt.title('Model loss')\n",
    "plt.ylabel('Mean Squared Error')\n",
    "plt.xlabel('Epoch')\n",
    "plt.show()"
   ]
  },
  {
   "cell_type": "markdown",
   "metadata": {
    "id": "ReNIPXiwvl5X"
   },
   "source": [
    "**Conclusions**\n",
    "\n",
    "- Sucessfully scaled our data to avoid over-sampling, to prepare data for splitting into training and training, as shown.\n",
    "- We splitted the data into training, testing and validation, with 15 epochs\n",
    "- We then created a neural network with 1 output layer and 123 weights (successfully trainable)\n",
    "***\n",
    "**Results after training model:**\n",
    "* Model has a prediction with mean square error of around 0.6. This is a well trained model. The plot of mean square error vs epoch shows a decreasing (decay) curve as number of epochs increases. This is a fairly good result."
   ]
  },
  {
   "cell_type": "code",
   "execution_count": null,
   "metadata": {},
   "outputs": [],
   "source": []
  }
 ],
 "metadata": {
  "colab": {
   "collapsed_sections": [],
   "name": "leon_datascience_assignment_2.ipynb",
   "provenance": []
  },
  "kernelspec": {
   "display_name": "Python 3",
   "language": "python",
   "name": "python3"
  },
  "language_info": {
   "codemirror_mode": {
    "name": "ipython",
    "version": 3
   },
   "file_extension": ".py",
   "mimetype": "text/x-python",
   "name": "python",
   "nbconvert_exporter": "python",
   "pygments_lexer": "ipython3",
   "version": "3.9.2"
  }
 },
 "nbformat": 4,
 "nbformat_minor": 1
}
